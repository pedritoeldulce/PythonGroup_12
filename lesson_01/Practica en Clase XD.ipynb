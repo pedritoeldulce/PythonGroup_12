{
 "cells": [
  {
   "cell_type": "markdown",
   "metadata": {},
   "source": [
    "# Ejercicios - clase 2 "
   ]
  },
  {
   "cell_type": "code",
   "execution_count": 24,
   "metadata": {},
   "outputs": [
    {
     "name": "stdout",
     "output_type": "stream",
     "text": [
      "True\n",
      "6\n",
      "ingrese su nombre: 2\n",
      "ingrese su apellido: 3\n",
      "Hola 2 3\n",
      "Hola 3.000000 2.00\n"
     ]
    }
   ],
   "source": [
    "cadena=\"paolo\"\n",
    "dir(cadena )\n",
    "##print(cadena.upper())\n",
    "\n",
    "numero=\"132\"\n",
    "print(numero.isdigit())\n",
    "\n",
    "cadena= \"1234asd\"\n",
    "print(cadena.find(\"d\"))\n",
    "\n",
    "dir(cadena)\n",
    "\n",
    "name=int(input(\"ingrese su nombre: \"))\n",
    "apellido=int(input(\"ingrese su apellido: \"))\n",
    "# print(\"HOla \"+ name + \" \" + apellido)\n",
    "\n",
    "print(\"Hola {} {}\".format(name,apellido))\n",
    "print(\"Hola {1:f} {0:.2f}\".format(name,apellido))"
   ]
  },
  {
   "cell_type": "markdown",
   "metadata": {},
   "source": [
    "# listas"
   ]
  },
  {
   "cell_type": "code",
   "execution_count": 32,
   "metadata": {},
   "outputs": [
    {
     "name": "stdout",
     "output_type": "stream",
     "text": [
      "['a', 's', 'd', 'a', 's', 'd']\n",
      "[1, 2, ['2', '3']]\n"
     ]
    }
   ],
   "source": [
    "lista=[1,2,3,\"hola\",\"paolo\"]\n",
    "lista=list(\"asdasd\") # constructor de lista\n",
    "print(lista)\n",
    "\n",
    "lista2=[1,2,list(\"23\")]\n",
    "print(lista2)\n"
   ]
  },
  {
   "cell_type": "code",
   "execution_count": 34,
   "metadata": {},
   "outputs": [
    {
     "name": "stdout",
     "output_type": "stream",
     "text": [
      "bc\n",
      "[3, 34]\n"
     ]
    }
   ],
   "source": [
    "# slicing, tambien aplica a String\n",
    "cadena=\"abcd\"\n",
    "print(cadena[1:3])\n",
    "\n",
    "lista3=[1,2,3,34,5]\n",
    "print(lista3[2:4])"
   ]
  },
  {
   "cell_type": "code",
   "execution_count": 38,
   "metadata": {},
   "outputs": [
    {
     "name": "stdout",
     "output_type": "stream",
     "text": [
      "[1, 3, 4, 5, 0, 5, 3, 29]\n",
      "[1, 2, 4, 5, 0, 5, 3, 29]\n"
     ]
    }
   ],
   "source": [
    "lista=[1,3,4,5,0,5,3,29]\n",
    "#lista2=lista.copy()\n",
    "lista=lista[:]\n",
    "lista2[1]=2\n",
    "\n",
    "print(lista)\n",
    "print(lista2)\n",
    "\n",
    "#lista2=lista.copy()\n",
    "#lista2=lista[:]"
   ]
  },
  {
   "cell_type": "code",
   "execution_count": 42,
   "metadata": {},
   "outputs": [
    {
     "name": "stdout",
     "output_type": "stream",
     "text": [
      "[1, 2, 4, 65, 7, 'as']\n",
      "[1, 2, 4, 65, 7, 'as', 'asdsa', 23, 'sad']\n"
     ]
    }
   ],
   "source": [
    "# uso de extends\n",
    "lista =[1,2,4,65,7]\n",
    "lista.append(\"as\")\n",
    "print(lista)\n",
    "# agregar mas de uno\n",
    "lista.extend([\"asdsa\",23,\"sad\"])\n",
    "print(lista)"
   ]
  },
  {
   "cell_type": "code",
   "execution_count": 43,
   "metadata": {},
   "outputs": [
    {
     "name": "stdout",
     "output_type": "stream",
     "text": [
      "1 2 4 65 7 as asdsa 23 sad "
     ]
    }
   ],
   "source": [
    "for i in lista:\n",
    "    print(i, end=\" \")"
   ]
  },
  {
   "cell_type": "code",
   "execution_count": 45,
   "metadata": {},
   "outputs": [
    {
     "name": "stdout",
     "output_type": "stream",
     "text": [
      "['a', 'd', 'f', 'z']\n"
     ]
    }
   ],
   "source": [
    "lista=[\"a\",\"f\",\"d\",\"z\"]\n",
    "lista.sort()\n",
    "print(lista)"
   ]
  },
  {
   "cell_type": "code",
   "execution_count": 48,
   "metadata": {},
   "outputs": [
    {
     "name": "stdout",
     "output_type": "stream",
     "text": [
      "ingrese sus valores2 4 5 7 7\n",
      "[2, 4, 5, 7, 7]\n"
     ]
    }
   ],
   "source": [
    "# Ejercicio 1\n",
    "lista= list(map(int,input(\"ingrese sus valores\").split()))\n",
    "print(lista)"
   ]
  },
  {
   "cell_type": "code",
   "execution_count": 46,
   "metadata": {},
   "outputs": [
    {
     "name": "stdout",
     "output_type": "stream",
     "text": [
      "['1', '2', '3', '4', '5', '6', '7']\n"
     ]
    }
   ],
   "source": [
    "cadena=\"1 2 3 4 5 6 7\"\n",
    "lista=cadena.split() # tambien se le puede dar un valor (split(\",\")), cada vez uqe encuetra una coma separa\n",
    "print(lista)\n",
    "\n",
    "cadena="
   ]
  },
  {
   "cell_type": "code",
   "execution_count": 63,
   "metadata": {},
   "outputs": [
    {
     "name": "stdout",
     "output_type": "stream",
     "text": [
      "ingrese sus valores:2 9 3 7 4 6\n",
      "[2, 3, 9]\n",
      "[4, 6, 7]\n"
     ]
    }
   ],
   "source": [
    "## Dada una lista de numeros enteros, tienes la tarea de ordenarlas de menor a mayor.\n",
    "# (solo con 3 elementos )\n",
    "lista= list(map(int,input(\"ingrese sus valores:\").split()))\n",
    "longitud=len(lista)\n",
    "\n",
    "lista1=lista.copy()\n",
    "lista1=lista1[:(longitud//2)]\n",
    "\n",
    "for i in range(len(lista1)-1):\n",
    "    if (lista1[i]>lista1[i+1]):\n",
    "        lista1[i],lista1[i+1]=lista1[i+1],lista1[i]\n",
    "        \n",
    "lista2=lista.copy()\n",
    "lista2=lista2[(longitud//2):]\n",
    "\n",
    "for i in range(len(lista2)-1):\n",
    "    if (lista2[i]>lista2[i+1]):\n",
    "        lista2[i],lista2[i+1]=lista2[i+1],lista2[i]\n",
    "\n",
    "\n",
    "print(lista1)\n",
    "print(lista2)"
   ]
  },
  {
   "cell_type": "code",
   "execution_count": 82,
   "metadata": {},
   "outputs": [
    {
     "name": "stdout",
     "output_type": "stream",
     "text": [
      "insert 0 1\n",
      "[]\n"
     ]
    }
   ],
   "source": [
    "lista=list()\n",
    "comando1=\"insert i e\"\n",
    "comando2=\"print\"\n",
    "\n",
    "comando=input()\n",
    "if(comando==comando1):\n",
    "    i=comando1.find(\"i\")\n",
    "    e=comando1.find(\"e\")\n",
    "    lista.insert(i,e)\n",
    "\n",
    "elif(comando==comando2):\n",
    "    print(lista)\n",
    "    \n",
    "print(lista)"
   ]
  },
  {
   "cell_type": "code",
   "execution_count": 83,
   "metadata": {},
   "outputs": [
    {
     "data": {
      "text/plain": [
       "['__add__',\n",
       " '__class__',\n",
       " '__contains__',\n",
       " '__delattr__',\n",
       " '__dir__',\n",
       " '__doc__',\n",
       " '__eq__',\n",
       " '__format__',\n",
       " '__ge__',\n",
       " '__getattribute__',\n",
       " '__getitem__',\n",
       " '__getnewargs__',\n",
       " '__gt__',\n",
       " '__hash__',\n",
       " '__init__',\n",
       " '__init_subclass__',\n",
       " '__iter__',\n",
       " '__le__',\n",
       " '__len__',\n",
       " '__lt__',\n",
       " '__mod__',\n",
       " '__mul__',\n",
       " '__ne__',\n",
       " '__new__',\n",
       " '__reduce__',\n",
       " '__reduce_ex__',\n",
       " '__repr__',\n",
       " '__rmod__',\n",
       " '__rmul__',\n",
       " '__setattr__',\n",
       " '__sizeof__',\n",
       " '__str__',\n",
       " '__subclasshook__',\n",
       " 'capitalize',\n",
       " 'casefold',\n",
       " 'center',\n",
       " 'count',\n",
       " 'encode',\n",
       " 'endswith',\n",
       " 'expandtabs',\n",
       " 'find',\n",
       " 'format',\n",
       " 'format_map',\n",
       " 'index',\n",
       " 'isalnum',\n",
       " 'isalpha',\n",
       " 'isascii',\n",
       " 'isdecimal',\n",
       " 'isdigit',\n",
       " 'isidentifier',\n",
       " 'islower',\n",
       " 'isnumeric',\n",
       " 'isprintable',\n",
       " 'isspace',\n",
       " 'istitle',\n",
       " 'isupper',\n",
       " 'join',\n",
       " 'ljust',\n",
       " 'lower',\n",
       " 'lstrip',\n",
       " 'maketrans',\n",
       " 'partition',\n",
       " 'replace',\n",
       " 'rfind',\n",
       " 'rindex',\n",
       " 'rjust',\n",
       " 'rpartition',\n",
       " 'rsplit',\n",
       " 'rstrip',\n",
       " 'split',\n",
       " 'splitlines',\n",
       " 'startswith',\n",
       " 'strip',\n",
       " 'swapcase',\n",
       " 'title',\n",
       " 'translate',\n",
       " 'upper',\n",
       " 'zfill']"
      ]
     },
     "execution_count": 83,
     "metadata": {},
     "output_type": "execute_result"
    }
   ],
   "source": [
    "lis=\"asdamsd\"\n",
    "dir(lis)\n",
    "\n",
    "#print(lis.find(\"a\"))\n"
   ]
  },
  {
   "cell_type": "code",
   "execution_count": 106,
   "metadata": {},
   "outputs": [
    {
     "name": "stdout",
     "output_type": "stream",
     "text": [
      "Ingrese su cadena: 222222\n",
      "Ingrese su subcadena: 22\n",
      "5\n"
     ]
    }
   ],
   "source": [
    "# ejercicio 2  -  volver a hacer\n",
    "cadena=input(\"Ingrese su cadena: \")\n",
    "subcadena=input(\"Ingrese su subcadena: \")\n",
    "cantidad=0\n",
    "con=0\n",
    "for i in range(len(cadena) -len(subcadena) +1):\n",
    "    ban=True\n",
    "    for j in range(len(subcadena)):\n",
    "        if cadena[i+j] != subcadena[j]:\n",
    "            ban=False\n",
    "            break\n",
    "    if ban:\n",
    "        con+=1\n",
    "print(con)\n",
    "\n"
   ]
  },
  {
   "cell_type": "code",
   "execution_count": 94,
   "metadata": {},
   "outputs": [
    {
     "name": "stdout",
     "output_type": "stream",
     "text": [
      "1\n"
     ]
    }
   ],
   "source": [
    "cadena=\"paolo\"\n",
    "print(cadena.find(\"a\"))\n"
   ]
  },
  {
   "cell_type": "markdown",
   "metadata": {},
   "source": [
    "# TUPLA"
   ]
  },
  {
   "cell_type": "code",
   "execution_count": 121,
   "metadata": {},
   "outputs": [
    {
     "name": "stdout",
     "output_type": "stream",
     "text": [
      "(1, 2, 3)\n",
      "(4, 5, 6, 6, 7)\n",
      "(2, 3)\n",
      "1\n",
      "1\n"
     ]
    }
   ],
   "source": [
    "lista=[1,2,3]\n",
    "t=tuple(lista) # convierte una lista en tupla\n",
    "print(t)\n",
    "\n",
    "tu=(4,5,6,6,7)\n",
    "print(tu)\n",
    "\n",
    "print(t[1:])\n",
    "print(tu.index(5))\n",
    "print(tu.count(5))\n",
    "\n",
    "#dir(tu)\n",
    "\n",
    "\n",
    "\n"
   ]
  },
  {
   "cell_type": "code",
   "execution_count": 128,
   "metadata": {},
   "outputs": [
    {
     "name": "stdout",
     "output_type": "stream",
     "text": [
      "{1: 'uno', 2: 'dos', 3: 'tres'}\n",
      "{'uno': 1, 'dos': 2, 'tres': 3}\n"
     ]
    }
   ],
   "source": [
    "d={1:\"uno\", 2:\"dos\",3:\"tres\"}\n",
    "print(d)\n"
   ]
  },
  {
   "cell_type": "code",
   "execution_count": 143,
   "metadata": {},
   "outputs": [
    {
     "name": "stdout",
     "output_type": "stream",
     "text": [
      "1234\n",
      "['1', '2', '3', '4']\n",
      "{'3', '4', '1', '2'}\n"
     ]
    },
    {
     "data": {
      "text/plain": [
       "['__and__',\n",
       " '__class__',\n",
       " '__contains__',\n",
       " '__delattr__',\n",
       " '__dir__',\n",
       " '__doc__',\n",
       " '__eq__',\n",
       " '__format__',\n",
       " '__ge__',\n",
       " '__getattribute__',\n",
       " '__gt__',\n",
       " '__hash__',\n",
       " '__iand__',\n",
       " '__init__',\n",
       " '__init_subclass__',\n",
       " '__ior__',\n",
       " '__isub__',\n",
       " '__iter__',\n",
       " '__ixor__',\n",
       " '__le__',\n",
       " '__len__',\n",
       " '__lt__',\n",
       " '__ne__',\n",
       " '__new__',\n",
       " '__or__',\n",
       " '__rand__',\n",
       " '__reduce__',\n",
       " '__reduce_ex__',\n",
       " '__repr__',\n",
       " '__ror__',\n",
       " '__rsub__',\n",
       " '__rxor__',\n",
       " '__setattr__',\n",
       " '__sizeof__',\n",
       " '__str__',\n",
       " '__sub__',\n",
       " '__subclasshook__',\n",
       " '__xor__',\n",
       " 'add',\n",
       " 'clear',\n",
       " 'copy',\n",
       " 'difference',\n",
       " 'difference_update',\n",
       " 'discard',\n",
       " 'intersection',\n",
       " 'intersection_update',\n",
       " 'isdisjoint',\n",
       " 'issubset',\n",
       " 'issuperset',\n",
       " 'pop',\n",
       " 'remove',\n",
       " 'symmetric_difference',\n",
       " 'symmetric_difference_update',\n",
       " 'union',\n",
       " 'update']"
      ]
     },
     "execution_count": 143,
     "metadata": {},
     "output_type": "execute_result"
    }
   ],
   "source": [
    "#### \n",
    "lista=list(input())\n",
    "\n",
    "setLista = set(lista)\n",
    "\n",
    "print(lista)\n",
    "print(setLista)\n"
   ]
  }
 ],
 "metadata": {
  "kernelspec": {
   "display_name": "Python 3",
   "language": "python",
   "name": "python3"
  },
  "language_info": {
   "codemirror_mode": {
    "name": "ipython",
    "version": 3
   },
   "file_extension": ".py",
   "mimetype": "text/x-python",
   "name": "python",
   "nbconvert_exporter": "python",
   "pygments_lexer": "ipython3",
   "version": "3.7.0"
  }
 },
 "nbformat": 4,
 "nbformat_minor": 2
}
